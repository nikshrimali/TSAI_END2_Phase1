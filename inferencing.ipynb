{
 "metadata": {
  "language_info": {
   "codemirror_mode": {
    "name": "ipython",
    "version": 3
   },
   "file_extension": ".py",
   "mimetype": "text/x-python",
   "name": "python",
   "nbconvert_exporter": "python",
   "pygments_lexer": "ipython3",
   "version": "3.8.5"
  },
  "orig_nbformat": 4,
  "kernelspec": {
   "name": "python3",
   "display_name": "Python 3.8.5 64-bit ('nlp_py': conda)"
  },
  "interpreter": {
   "hash": "fbeaffcba064d35a6d29d75e61155a23ece1c55ca7e7176fe096951437ca84b8"
  }
 },
 "nbformat": 4,
 "nbformat_minor": 2,
 "cells": [
  {
   "cell_type": "code",
   "execution_count": 1,
   "metadata": {},
   "outputs": [
    {
     "output_type": "stream",
     "name": "stderr",
     "text": [
      "[nltk_data] Downloading package stopwords to\n[nltk_data]     C:\\Users\\naman\\AppData\\Roaming\\nltk_data...\n[nltk_data]   Package stopwords is already up-to-date!\n[nltk_data] Downloading package punkt to\n[nltk_data]     C:\\Users\\naman\\AppData\\Roaming\\nltk_data...\n[nltk_data]   Package punkt is already up-to-date!\n"
     ]
    }
   ],
   "source": [
    "from dataset.legacy.tweets_dataset import TweetsDataset\n",
    "dataset = TweetsDataset(transform=False)"
   ]
  },
  {
   "cell_type": "code",
   "execution_count": 2,
   "metadata": {},
   "outputs": [],
   "source": [
    "size_of_vocab = len(dataset.Tweet.vocab)\n",
    "embedding_dim = 300\n",
    "num_hidden_nodes = 20"
   ]
  },
  {
   "cell_type": "code",
   "execution_count": 3,
   "metadata": {},
   "outputs": [],
   "source": [
    "from model.lstm import Lstm\n",
    "from model.encoder_decoder import EncoderDecoder\n",
    "encoder = Lstm(vocab_size = size_of_vocab, embedding_dim= embedding_dim, hidden_dim = num_hidden_nodes, staggered_input = True)\n",
    "decoder = Lstm(vocab_size = None, embedding_dim= encoder.fc.out_features, hidden_dim = num_hidden_nodes, output_dim = num_hidden_nodes, staggered_input = False)"
   ]
  },
  {
   "cell_type": "code",
   "execution_count": 4,
   "metadata": {},
   "outputs": [],
   "source": [
    "model = EncoderDecoder(encoder=encoder, decoder=decoder, num_classes=3)"
   ]
  },
  {
   "cell_type": "code",
   "execution_count": 5,
   "metadata": {},
   "outputs": [],
   "source": [
    "#load weights and tokenizer\n",
    "import torch\n",
    "import os, pickle\n",
    "\n",
    "path='./saved_weights.pt'\n",
    "model.load_state_dict(torch.load(path))\n",
    "model.eval()\n",
    "tokenizer_file = open('./tokenizer.pkl', 'rb')\n",
    "tokenizer = pickle.load(tokenizer_file)\n",
    "device = \"cpu\"\n",
    "#inference \n",
    "\n",
    "import spacy\n",
    "nlp = spacy.load('en')\n",
    "misclassified = []\n",
    "correct = []\n",
    "categories = {0: \"Negative\", 1:\"Positive\", 2:\"Neutral\"}"
   ]
  },
  {
   "cell_type": "code",
   "execution_count": 6,
   "metadata": {},
   "outputs": [],
   "source": [
    "def classify_tweet(tweet):\n",
    "    \n",
    "    # tokenize the tweet \n",
    "    tokenized = [tok.text for tok in nlp.tokenizer(tweet)] \n",
    "    # convert to integer sequence using predefined tokenizer dictionary\n",
    "    indexed = [tokenizer[t] for t in tokenized]        \n",
    "    # compute no. of words        \n",
    "    length = [len(indexed)]\n",
    "    # convert to tensor                                    \n",
    "    tensor = torch.LongTensor(indexed).to(device)   \n",
    "    # reshape in form of batch, no. of words           \n",
    "    tensor = tensor.unsqueeze(1).T  \n",
    "    # convert to tensor                          \n",
    "    length_tensor = torch.LongTensor(length)\n",
    "    # Get the model prediction                  \n",
    "    prediction = model(tensor, length_tensor)\n",
    "\n",
    "    _, pred = torch.max(prediction, 1)\n",
    "    \n",
    "    return categories[pred.item()]"
   ]
  },
  {
   "cell_type": "code",
   "execution_count": 7,
   "metadata": {},
   "outputs": [],
   "source": [
    "import pandas as pd\n",
    "dataframe = pd.read_csv(\"data/tweets.csv\").head(50)"
   ]
  },
  {
   "cell_type": "code",
   "execution_count": 8,
   "metadata": {},
   "outputs": [],
   "source": [
    "from utils.augmentations import processTweet\n",
    "dataframe[\"labels\"] = dataframe[\"labels\"].apply(lambda label: categories[label])\n",
    "dataframe[\"cleaned tweets\"] = dataframe[\"tweets\"].apply(lambda tweet: processTweet(tweet))\n",
    "dataframe[\"prediction\"] = dataframe[\"tweets\"].apply(lambda tweet: classify_tweet(tweet))"
   ]
  },
  {
   "cell_type": "code",
   "execution_count": 9,
   "metadata": {},
   "outputs": [],
   "source": [
    "correct_classified_dataframe = dataframe[dataframe['prediction'] == dataframe['labels']]"
   ]
  },
  {
   "cell_type": "code",
   "execution_count": 10,
   "metadata": {},
   "outputs": [],
   "source": [
    "misclassified_dataframe = dataframe[dataframe['prediction'] != dataframe['labels']]"
   ]
  },
  {
   "cell_type": "code",
   "execution_count": 11,
   "metadata": {},
   "outputs": [
    {
     "output_type": "stream",
     "name": "stdout",
     "text": [
      "\n\n----\nTweet : Obama has called the GOP budget social Darwinism. Nice try, but they believe in social creationism.\n\nCleaned tweet : obama has called the gop budget social darwinism nice try but they believe in social creationism\n\nPrediction: Positive\tActual: Positive\n\n\n----\nTweet : In his teen years, Obama has been known to use marijuana and cocaine.\n\nCleaned tweet : in his teen years obama has been known to use marijuana and cocaine\n\nPrediction: Negative\tActual: Negative\n\n\n----\nTweet : IPA Congratulates President Barack Obama for Leadership Regarding JOBS Act: WASHINGTON, Apr 05, 2012 (BUSINESS W... http://t.co/8le3DC8E\n\nCleaned tweet : ipa congratulates president barack obama for leadership regarding jobs act washington apr 05 2012 business w URL\n\nPrediction: Negative\tActual: Negative\n\n\n----\nTweet : RT @Professor_Why: #WhatsRomneyHiding - his connection to supporters of Critical Race Theory.... Oh wait, that was Obama, not Romney...\n\nCleaned tweet : rt AT USER whatsromneyhiding his connection to supporters of critical race theory oh wait that was obama not romney\n\nPrediction: Negative\tActual: Negative\n\n\n----\nTweet : Video shows federal officials joking about cost of lavish conference http://t.co/2i4SmoPM #obama #crime #p2 #news #tcot #teaparty\n\nCleaned tweet : video shows federal officials joking about cost of lavish conference URL obama crime p2 news tcot teaparty\n\nPrediction: Negative\tActual: Negative\n\n\n----\nTweet : RT @ohgirlphrase: American kid \"You're from the UK? Ohhh cool, So do you have tea with the Queen?\". British kid: \"Do you like, go to Mcdonalds with Obama?\n\nCleaned tweet : rt AT USER american kid youre from the uk ohhh cool so do you have tea with the queen british kid do you like go to mcdonalds with obama\n\nPrediction: Negative\tActual: Negative\n\n\n----\nTweet : A valid explanation for why Obama won't let women on the golf course.   #WhatsRomneyHiding\n\nCleaned tweet : a valid explanation for why obama wont let women on the golf course whatsromneyhiding\n\nPrediction: Positive\tActual: Positive\n\n\n----\nTweet : President Obama &lt; Lindsay Lohan RUMORS beginning cross shape lights on ST &lt; 1987 Analyst64 DC bicycle courier &lt; Video changes to scramble.\n\nCleaned tweet : president obama lt lindsay lohan rumors beginning cross shape lights on st lt 1987 analyst64 dc bicycle courier lt video changes to scramble\n\nPrediction: Negative\tActual: Negative\n\n\n----\nTweet : Obama's Gender Advantage Extends to the States - 2012 Decoded: New detail on recent swing state polling further ... http://t.co/8iSanDGS\n\nCleaned tweet : obamas gender advantage extends to the states 2012 decoded new detail on recent swing state polling further URL\n\nPrediction: Positive\tActual: Positive\n\n\n----\nTweet : RT @GregWHoward: Obama inherited (if you want to use his lame wording) $10.6 trillion in debt and turned it into $15.2 trillion. #tcot #p2 #ocra #teaparty\n\nCleaned tweet : rt AT USER obama inherited if you want to use his lame wording 10 6 trillion in debt and turned it into 15 2 trillion tcot p2 ocra teaparty\n\nPrediction: Negative\tActual: Negative\n\n\n----\nTweet : RT @ohgirlphrase: American kid \"You're from the UK? Ohhh cool, So do you have tea with the Queen?\". British kid: \"Do you like, go to Mcdonalds with Obama?\n\nCleaned tweet : rt AT USER american kid youre from the uk ohhh cool so do you have tea with the queen british kid do you like go to mcdonalds with obama\n\nPrediction: Negative\tActual: Negative\n\n\n----\nTweet : of course..I blame HAARP, sinners, aliens, Bush and Obama for all this.  :P....&gt;&gt; http://t.co/7eq8nebt\n\nCleaned tweet : of course i blame haarp sinners aliens bush and obama for all this p gt gt URL\n\nPrediction: Negative\tActual: Negative\n\n\n----\nTweet : Pravda Endorses and Supports Obama   http://t.co/G68JEmkz\n\nCleaned tweet : pravda endorses and supports obama URL\n\nPrediction: Negative\tActual: Negative\n\n\n----\nTweet : RT @mlake9: Love how the #Obama campaign's #WhatsRomneyHiding back fired, now #WhatsObamaHiding is trending. Seeing a lot of birth certificate tweets.\n\nCleaned tweet : rt AT USER love how the obama campaigns whatsromneyhiding back fired now whatsobamahiding is trending seeing a lot of birth certificate tweets\n\nPrediction: Positive\tActual: Positive\n\n\n----\nTweet : @katie_larson It was Obama's hashtag--conservatives turned it into a game (again) :) It's funny ;)\n\nCleaned tweet : AT USER it was obamas hashtag conservatives turned it into a game again its funny\n\nPrediction: Negative\tActual: Negative\n\n\n----\nTweet : RT @ohgirlphrase: American kid \"You're from the UK? Ohhh cool, So do you have tea with the Queen?\". British kid: \"Do you like, go to Mcdonalds with Obama?\n\nCleaned tweet : rt AT USER american kid youre from the uk ohhh cool so do you have tea with the queen british kid do you like go to mcdonalds with obama\n\nPrediction: Negative\tActual: Negative\n\n\n----\nTweet : RT @mlake9: Love how the #Obama campaign's #WhatsRomneyHiding back fired, now #WhatsObamaHiding is trending. Seeing a lot of birth certificate tweets.\n\nCleaned tweet : rt AT USER love how the obama campaigns whatsromneyhiding back fired now whatsobamahiding is trending seeing a lot of birth certificate tweets\n\nPrediction: Positive\tActual: Positive\n\n\n----\nTweet : @edshow the direspect of President #Obama is based on racism. They do not want a Black PRESIDENT. #edshow\n\nCleaned tweet : AT USER the direspect of president obama is based on racism they do not want a black president edshow\n\nPrediction: Negative\tActual: Negative\n\n\n----\nTweet : RT @Professor_Why: #WhatsRomneyHiding - his plan to push bad loans through for Green energy just to see 'em go bankrupt... Oops, that's Obama again!\n\nCleaned tweet : rt AT USER whatsromneyhiding his plan to push bad loans through for green energy just to see em go bankrupt oops thats obama again\n\nPrediction: Negative\tActual: Negative\n\n\n----\nTweet : RT @haymakers: When RWers whine \"What's Obama doing about gas prices!?\" Tell them, \"Nothing. That's how the free-market works. What are you? A socialist?\"\n\nCleaned tweet : rt AT USER when rwers whine whats obama doing about gas prices tell them nothing thats how the free market works what are you a socialist\n\nPrediction: Negative\tActual: Negative\n\n\n----\nTweet : RT @0ryuge: #WhatsRomneyHiding The videotape of Barack Obama sucking up to radical Rashid Khalidi. Oh wait, that's the LATimes #VetThePress #VetThePres\n\nCleaned tweet : rt AT USER whatsromneyhiding the videotape of barack obama sucking up to radical rashid khalidi oh wait thats the latimes vetthepress vetthepres\n\nPrediction: Negative\tActual: Negative\n\n\n----\nTweet : RT @EMcLean1982: #WhatsRomneyHiding Obama's Mom Jeans\n\nCleaned tweet : rt AT USER whatsromneyhiding obamas mom jeans\n\nPrediction: Negative\tActual: Negative\n\n\n----\nTweet : RT @Libertarian_76: I can't wait until Romney goes after Obama on NDAA. Oh wait.\n\nCleaned tweet : rt AT USER i cant wait until romney goes after obama on ndaa oh wait\n\nPrediction: Negative\tActual: Negative\n\n\n----\nTweet : #KimKardashiansNextBoyFriend Obama lol Michelle ain't goin 4 dat\n\nCleaned tweet : kimkardashiansnextboyfriend obama lol michelle aint goin 4 dat\n\nPrediction: Negative\tActual: Negative\n\n\n----\nTweet : Obama And The Democrats Shocked By Constitutional Restraint http://t.co/RhSzoEU7 via @IBDinvestors\n\nCleaned tweet : obama and the democrats shocked by constitutional restraint URL via AT USER\n\nPrediction: Positive\tActual: Positive\n"
     ]
    }
   ],
   "source": [
    "for index, row in correct_classified_dataframe.head(25).iterrows():\n",
    "    print(\"\\n\\n----\")\n",
    "    print(f\"Tweet : {row['tweets']}\\n\\nCleaned tweet : {row['cleaned tweets']}\\n\\nPrediction: {row['prediction']}\\tActual: {row['labels']}\")"
   ]
  },
  {
   "cell_type": "code",
   "execution_count": 12,
   "metadata": {},
   "outputs": [
    {
     "output_type": "stream",
     "name": "stdout",
     "text": [
      "\n\n----\nTweet : RT @wardollarshome: Obama has approved more targeted assassinations than any modern US prez; READ & RT: http://t.co/bfC4gbBW\n\nCleaned tweet : rt AT USER obama has approved more targeted assassinations than any modern us prez read rt URL\n\nPrediction: Negative\tActual: Positive\n\n\n----\nTweet : one Chicago kid who says \"Obama is my man\" tells Jesse Watters that the gun violence in Chicago is like \"World War 17\"\n\nCleaned tweet : one chicago kid who says obama is my man tells jesse watters that the gun violence in chicago is like world war 17\n\nPrediction: Positive\tActual: Negative\n\n\n----\nTweet : #WhatsRomneyHiding? Obama's dignity and sense of humor? #p2 #tcot\n\nCleaned tweet : whatsromneyhiding obamas dignity and sense of humor p2 tcot\n\nPrediction: Negative\tActual: Neutral\n\n\n----\nTweet : Here's How Obama and the Democrats Will Win in 2012: Let's start by going back to the assorted polls questioning... http://t.co/zpg0TVm3\n\nCleaned tweet : heres how obama and the democrats will win in 2012 lets start by going back to the assorted polls questioning URL\n\nPrediction: Negative\tActual: Positive\n\n\n----\nTweet : RealClearPolitics - Obama's Organizational Advantage on Full ...: As a small but electorally significant state t... http://t.co/3Ax22aBB\n\nCleaned tweet : realclearpolitics obamas organizational advantage on full as a small but electorally significant state t URL\n\nPrediction: Positive\tActual: Neutral\n\n\n----\nTweet : RT @FrankConniff: Harvard graduate Romney slammed Obama for going to Harvard. Good to know that Mitt Romney hates people like Mitt Romney.\n\nCleaned tweet : rt AT USER harvard graduate romney slammed obama for going to harvard good to know that mitt romney hates people like mitt romney\n\nPrediction: Negative\tActual: Positive\n\n\n----\nTweet : RT @wilycyotee Pres. Obama's ongoing support of women is another reason I am so proud he is my President!  @edshow #Obama2012\n\nCleaned tweet : rt AT USER pres obamas ongoing support of women is another reason i am so proud he is my president AT USER obama2012\n\nPrediction: Negative\tActual: Neutral\n\n\n----\nTweet : RT @RandallHoven: Nixon was missing 18 minutes. Obama is missing 18 years.\n\nCleaned tweet : rt AT USER nixon was missing 18 minutes obama is missing 18 years\n\nPrediction: Positive\tActual: Negative\n\n\n----\nTweet : #WhatsRomneyHiding Obama's birth certificate.\n\nCleaned tweet : whatsromneyhiding obamas birth certificate\n\nPrediction: Positive\tActual: Negative\n\n\n----\nTweet : Thanks for the shout out in this recap of #JOBSAct signing! http://t.co/njCfZuSd via @MiamiHerald\n\nCleaned tweet : thanks for the shout out in this recap of jobsact signing URL via AT USER\n\nPrediction: Positive\tActual: Negative\n\n\n----\nTweet : #edshow  My President is standing up,speaking up,fighting back and I am so glad he has taken the gloves off. OBAMA 2012 @edshow\n\nCleaned tweet : edshow my president is standing up speaking up fighting back and i am so glad he has taken the gloves off obama 2012 AT USER\n\nPrediction: Negative\tActual: Positive\n\n\n----\nTweet : If Obama win 2012 Election wait til 2016 he will have full white hair! just like Bill clinton!\n\nCleaned tweet : if obama win 2012 election wait til 2016 he will have full white hair just like bill clinton\n\nPrediction: Positive\tActual: Neutral\n\n\n----\nTweet : RT @Un_Progressive: .@ResistTyranny @freegalt Easy. Obama is hiding everything. Always has.\n\nCleaned tweet : rt AT USER AT USER AT USER easy obama is hiding everything always has\n\nPrediction: Negative\tActual: Positive\n\n\n----\nTweet : Even CBS won't buy bogus WH explanation of Obama Supreme Court comments - at http://t.co/rkNdEmIy #withnewt #tpn #tcot #tlot #tpp #sgp\n\nCleaned tweet : even cbs wont buy bogus wh explanation of obama supreme court comments at URL withnewt tpn tcot tlot tpp sgp\n\nPrediction: Negative\tActual: Positive\n\n\n----\nTweet : #whatsObamahiding Kryptonite for the Grand Old Party! Obama 2012\n\nCleaned tweet : whatsobamahiding kryptonite for the grand old party obama 2012\n\nPrediction: Negative\tActual: Positive\n\n\n----\nTweet : RT @BunkerBlast: RT @teacherspets Obama's Budget: 'Interest Payments Will Exceed Defense Budget' in 2019  http://t.co/uddCXCjt\n\nCleaned tweet : rt AT USER rt AT USER obamas budget interest payments will exceed defense budget in 2019 URL\n\nPrediction: Negative\tActual: Neutral\n\n\n----\nTweet : @edshow The Right has been crying about unelected judges legislation from  bench forever all of a sudden Obama says same thing he is a Thug\n\nCleaned tweet : AT USER the right has been crying about unelected judges legislation from bench forever all of a sudden obama says same thing he is a thug\n\nPrediction: Negative\tActual: Positive\n"
     ]
    }
   ],
   "source": [
    "for index, row in misclassified_dataframe.head(25).iterrows():\n",
    "    print(\"\\n\\n----\")\n",
    "    print(f\"Tweet : {row['tweets']}\\n\\nCleaned tweet : {row['cleaned tweets']}\\n\\nPrediction: {row['prediction']}\\tActual: {row['labels']}\")"
   ]
  },
  {
   "source": [
    "# The actual assignment"
   ],
   "cell_type": "markdown",
   "metadata": {}
  },
  {
   "cell_type": "code",
   "execution_count": 13,
   "metadata": {},
   "outputs": [],
   "source": [
    "from model.lstm import Lstm\n",
    "from model.encoder_decoder import EncoderDecoder\n",
    "encoder = Lstm(vocab_size = size_of_vocab, embedding_dim= embedding_dim, hidden_dim = num_hidden_nodes, staggered_input = True, debug=True)\n",
    "decoder = Lstm(vocab_size = None, embedding_dim= encoder.fc.out_features, hidden_dim = num_hidden_nodes, output_dim = num_hidden_nodes, staggered_input = False, debug=True)"
   ]
  },
  {
   "cell_type": "code",
   "execution_count": 14,
   "metadata": {},
   "outputs": [],
   "source": [
    "model = EncoderDecoder(encoder=encoder, decoder=decoder, num_classes=3)"
   ]
  },
  {
   "cell_type": "code",
   "execution_count": 15,
   "metadata": {},
   "outputs": [
    {
     "output_type": "execute_result",
     "data": {
      "text/plain": [
       "EncoderDecoder(\n",
       "  (encoder): Lstm(\n",
       "    (embedding): Embedding(3098, 300)\n",
       "    (lstm_cell): LSTMCell(300, 20, bias=False)\n",
       "    (fc): Linear(in_features=20, out_features=16, bias=True)\n",
       "  )\n",
       "  (decoder): Lstm(\n",
       "    (lstm_cell): LSTMCell(16, 20, bias=False)\n",
       "    (fc): Linear(in_features=20, out_features=20, bias=True)\n",
       "  )\n",
       "  (linear_layer): Linear(in_features=20, out_features=3, bias=True)\n",
       ")"
      ]
     },
     "metadata": {},
     "execution_count": 15
    }
   ],
   "source": [
    "import torch\n",
    "path='./saved_weights.pt'\n",
    "model.load_state_dict(torch.load(path))\n",
    "model.eval()"
   ]
  },
  {
   "cell_type": "code",
   "execution_count": 16,
   "metadata": {},
   "outputs": [
    {
     "output_type": "stream",
     "name": "stdout",
     "text": [
      "Encoder 0\ntensor([[-0.3326, -0.0291,  0.0139,  0.1516,  0.0039, -0.0206, -0.4432,  0.0555,\n          0.4517,  0.5568, -0.6531,  0.2773,  0.0017, -0.2519,  0.0504,  0.0926,\n          0.5178, -0.6054,  0.1508, -0.1905]], grad_fn=<MulBackward0>)\nEncoder 1\ntensor([[-0.4290, -0.5466,  0.2733, -0.0392,  0.2070,  0.3221,  0.0357, -0.0811,\n          0.5935,  0.0762, -0.2338,  0.0524,  0.0108, -0.0077,  0.3277, -0.1900,\n          0.0007, -0.4905, -0.0241,  0.1239]], grad_fn=<MulBackward0>)\nEncoder 2\ntensor([[-0.0246,  0.1054, -0.0060,  0.0719,  0.0039, -0.1117, -0.0065,  0.6118,\n          0.0457, -0.0303, -0.1856, -0.1946, -0.2983,  0.4614,  0.0203, -0.0078,\n         -0.3902, -0.5649,  0.0283,  0.6676]], grad_fn=<MulBackward0>)\nEncoder 3\ntensor([[-3.2853e-01, -4.2382e-03, -2.5963e-03,  3.7073e-02,  5.3789e-01,\n         -3.1684e-02, -2.0090e-03,  1.6923e-01,  2.6905e-01, -5.0071e-01,\n          9.9603e-02, -3.4340e-01, -9.9730e-02,  6.4148e-02,  1.3340e-01,\n          2.1384e-01,  4.2437e-05,  3.4066e-02,  4.1255e-01, -2.0025e-01]],\n       grad_fn=<MulBackward0>)\nEncoder 4\ntensor([[-0.3761, -0.0054, -0.0029, -0.0196,  0.5653, -0.0081, -0.0037,  0.1267,\n          0.3298, -0.4718,  0.1118, -0.3542, -0.1830,  0.0503,  0.2147,  0.2975,\n          0.0038,  0.0155,  0.2648, -0.2956]], grad_fn=<MulBackward0>)\nEncoder 5\ntensor([[-8.6374e-02,  3.9941e-01,  3.4409e-02,  3.1015e-01,  4.5534e-01,\n          2.6947e-01, -1.8570e-02,  1.7552e-03,  7.9063e-01, -2.2716e-01,\n         -4.5663e-04,  2.3911e-01, -2.0369e-01,  1.8628e-01,  3.9019e-01,\n         -9.5272e-03, -2.0034e-02,  1.0342e-02,  8.4490e-02,  8.3634e-02]],\n       grad_fn=<MulBackward0>)\nEncoder 6\ntensor([[-2.0857e-01,  2.5747e-02,  3.8452e-02,  2.2480e-01,  6.5218e-01,\n         -2.8299e-02, -6.3507e-02,  8.2817e-02,  6.4707e-01,  2.4353e-02,\n         -1.9128e-01,  7.0194e-01, -4.7980e-01, -5.4766e-01,  1.2887e-01,\n         -2.1756e-01,  1.0344e-01,  1.1598e-01,  5.6316e-04,  5.3311e-01]],\n       grad_fn=<MulBackward0>)\nDecoder 0\ntensor([[-0.2222,  0.0951, -0.1535,  0.2013,  0.3357,  0.0079, -0.1670, -0.0396,\n          0.3630,  0.0898, -0.0132,  0.1777, -0.3049, -0.1276,  0.1913,  0.0709,\n          0.1360,  0.1365,  0.0934,  0.1821]], grad_fn=<MulBackward0>)\nDecoder 1\ntensor([[-0.3049,  0.1173, -0.2649, -0.0759,  0.3724,  0.0600, -0.2648, -0.1181,\n          0.3479,  0.0767,  0.0879, -0.0585, -0.3104,  0.0211,  0.0867,  0.2278,\n          0.2086,  0.2072,  0.1786,  0.1816]], grad_fn=<MulBackward0>)\nDecoder 2\ntensor([[-0.3896,  0.1719, -0.3543, -0.2880,  0.3990,  0.0805, -0.3613, -0.1916,\n          0.3664,  0.0414,  0.1558, -0.2083, -0.3488,  0.1638,  0.0171,  0.3786,\n          0.3046,  0.2986,  0.2935,  0.2466]], grad_fn=<MulBackward0>)\nDecoder 3\ntensor([[-0.4655,  0.2433, -0.4300, -0.4355,  0.4372,  0.0957, -0.4568, -0.2615,\n          0.4106, -0.0035,  0.2080, -0.3092, -0.4028,  0.2802, -0.0401,  0.5170,\n          0.3972,  0.3911,  0.4014,  0.3197]], grad_fn=<MulBackward0>)\nDecoder 4\ntensor([[-0.5286,  0.3151, -0.4964, -0.5320,  0.4784,  0.1096, -0.5439, -0.3265,\n          0.4617, -0.0476,  0.2506, -0.3843, -0.4555,  0.3665, -0.0920,  0.6309,\n          0.4751,  0.4733,  0.4882,  0.3827]], grad_fn=<MulBackward0>)\n"
     ]
    },
    {
     "output_type": "execute_result",
     "data": {
      "text/plain": [
       "'Negative'"
      ]
     },
     "metadata": {},
     "execution_count": 16
    }
   ],
   "source": [
    "classify_tweet(\"Obama is a very very bad person\")"
   ]
  }
 ]
}