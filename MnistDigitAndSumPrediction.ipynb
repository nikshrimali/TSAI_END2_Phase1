{
 "metadata": {
  "language_info": {
   "codemirror_mode": {
    "name": "ipython",
    "version": 3
   },
   "file_extension": ".py",
   "mimetype": "text/x-python",
   "name": "python",
   "nbconvert_exporter": "python",
   "pygments_lexer": "ipython3",
   "version": "3.8.5"
  },
  "orig_nbformat": 2,
  "kernelspec": {
   "name": "python385jvsc74a57bd03de9d290524ff883b8259b248a1b147c991642eb880a4d565323a9dbe6df527f",
   "display_name": "Python 3.8.5 64-bit ('AiPy': conda)"
  }
 },
 "nbformat": 4,
 "nbformat_minor": 2,
 "cells": [
  {
   "cell_type": "code",
   "execution_count": 1,
   "metadata": {},
   "outputs": [
    {
     "output_type": "stream",
     "name": "stdout",
     "text": [
      "Sat May 22 10:32:49 2021       \n+-----------------------------------------------------------------------------+\n| NVIDIA-SMI 451.48       Driver Version: 451.48       CUDA Version: 11.0     |\n|-------------------------------+----------------------+----------------------+\n| GPU  Name            TCC/WDDM | Bus-Id        Disp.A | Volatile Uncorr. ECC |\n| Fan  Temp  Perf  Pwr:Usage/Cap|         Memory-Usage | GPU-Util  Compute M. |\n|===============================+======================+======================|\n|   0  GeForce GTX 1650   WDDM  | 00000000:01:00.0  On |                  N/A |\n| N/A   45C    P8     3W /  N/A |    398MiB /  4096MiB |     18%      Default |\n+-------------------------------+----------------------+----------------------+\n                                                                               \n+-----------------------------------------------------------------------------+\n| Processes:                                                                  |\n|  GPU   GI   CI        PID   Type   Process name                  GPU Memory |\n|        ID   ID                                                   Usage      |\n|=============================================================================|\n|    0   N/A  N/A      1320    C+G   Insufficient Permissions        N/A      |\n|    0   N/A  N/A      2840    C+G   ...b3d8bbwe\\WinStore.App.exe    N/A      |\n|    0   N/A  N/A      5348    C+G   ...icrosoft VS Code\\Code.exe    N/A      |\n|    0   N/A  N/A      6100    C+G   ...bbwe\\PaintStudio.View.exe    N/A      |\n|    0   N/A  N/A      7700    C+G   C:\\Windows\\explorer.exe         N/A      |\n|    0   N/A  N/A      8224    C+G   ...nputApp\\TextInputHost.exe    N/A      |\n|    0   N/A  N/A      9912    C+G   ...5n1h2txyewy\\SearchApp.exe    N/A      |\n|    0   N/A  N/A     10072    C+G   ...artMenuExperienceHost.exe    N/A      |\n|    0   N/A  N/A     10964    C+G   ...ekyb3d8bbwe\\YourPhone.exe    N/A      |\n|    0   N/A  N/A     13960    C+G   ...kyb3d8bbwe\\Calculator.exe    N/A      |\n|    0   N/A  N/A     14420    C+G   ...lPanel\\SystemSettings.exe    N/A      |\n+-----------------------------------------------------------------------------+\n"
     ]
    }
   ],
   "source": [
    "!nvidia-smi"
   ]
  },
  {
   "cell_type": "code",
   "execution_count": 2,
   "metadata": {},
   "outputs": [
    {
     "output_type": "stream",
     "name": "stdout",
     "text": [
      "Namespace(batch_size=512, epochs='20', lr=0.02, plot_graph=False, save=True, summarize=True, total=25)\n"
     ]
    }
   ],
   "source": [
    "!python train.py --epochs 20 --lr 0.02 --save --summarize"
   ]
  },
  {
   "cell_type": "code",
   "execution_count": 3,
   "metadata": {},
   "outputs": [],
   "source": [
    "!python inference.py --total 25"
   ]
  }
 ]
}